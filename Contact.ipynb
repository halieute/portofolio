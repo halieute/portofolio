{
 "cells": [
  {
   "cell_type": "markdown",
   "metadata": {},
   "source": [
    "# Contact Me\n",
    "\n",
    "- **Email**: souleymanemamannourisouley1995@gmail.com  \n",
    "- **LinkedIn**: [linkedin.com/in/souleymanemamannourisouley](https://linkedin.com/in/souleymanemamannourisouley)  \n",
    "- **GitHub**: [github.com/halieute](https://github.com/halieute)\n",
    "\n",
    "I am open to collaboration and new opportunities in environmental and climate research.\n",
    "www.linkedin.com/in/souleymanemamannourisouley"
   ]
  }
 ],
 "metadata": {
  "language_info": {
   "name": "python"
  }
 },
 "nbformat": 4,
 "nbformat_minor": 2
}
