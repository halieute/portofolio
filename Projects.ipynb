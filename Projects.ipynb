{
 "cells": [
  {
   "cell_type": "markdown",
   "metadata": {},
   "source": [
    "# Projects\n",
    "\n",
    "## 1. Rainfall Pattern Analysis in Niger Republic\n",
    "- **Description**: Analyzed rainfall trends using CHIRPS Daily dataset to identify potential flooding and drought hotspots.\n",
    "- **Tools Used**: Google Earth Engine, QGIS, Python\n",
    "- **Outcome**: Identified high-risk areas for policy planning.\n",
    "\n",
    "## 2. Pond Analysis of Guidimouni, Zinder Region\n",
    "- **Description**: Assessed fractional cover, wetness, and water conditions using Python.\n",
    "- **Relevance**: Supported sustainable management of aquatic resources.\n",
    "\n",
    "## 3. Early Warning System for Dust Events\n",
    "- **Description**: Leveraged AERONET dust data to design an early warning system for climate change impacts.\n",
    "- **Tools Used**: Python, Data Analytics"
   ]
  }
 ],
 "metadata": {
  "language_info": {
   "name": "python"
  }
 },
 "nbformat": 4,
 "nbformat_minor": 2
}
