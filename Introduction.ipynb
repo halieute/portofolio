{
 "cells": [
  {
   "cell_type": "markdown",
   "metadata": {},
   "source": [
    "# Introduction\n",
    "\n",
    "## About Me\n",
    "I am a dedicated environmental professional with a strong academic foundation and a passion for sustainable development and climate change studies. My academic journey includes:\n",
    "\n",
    "- **Bachelor’s Degree**: Environment and Ecology (Option: Fisheries and Aquatic Resources Management)\n",
    "- **Master’s Degree**: Environmental Assessment and Sustainable Development\n",
    "- **Current Studies**: Master’s in Climate Change and Marine Sciences\n",
    "\n",
    "## Research Interests\n",
    "- Climate Change and its Impact on Aquatic Ecosystems\n",
    "- Sustainable Fisheries Management\n",
    "- Environmental Monitoring and Assessment\n",
    "- GIS and Remote Sensing Applications\n",
    "\n",
    "## Skills\n",
    "- Proficient in Python and R for data analysis and visualization\n",
    "- Expertise in GIS and remote sensing tools (Google Earth Engine, QGIS, ArcGis)\n",
    "- Environmental impact assessment and sustainable resource management"
   ]
  }
 ],
 "metadata": {
  "language_info": {
   "name": "python"
  }
 },
 "nbformat": 4,
 "nbformat_minor": 2
}
